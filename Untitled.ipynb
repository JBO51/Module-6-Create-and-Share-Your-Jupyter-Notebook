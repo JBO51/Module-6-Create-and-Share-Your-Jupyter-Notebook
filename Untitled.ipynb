{
 "cells": [
  {
   "cell_type": "markdown",
   "id": "e8cf8ea0-f99d-4cec-961a-e1a519f5dd96",
   "metadata": {},
   "source": [
    "<h1>Data Science Tools and Ecosystem</h1>"
   ]
  },
  {
   "cell_type": "markdown",
   "id": "1d1cfc79-aa1e-4f24-9b14-a4a3e8dd258c",
   "metadata": {},
   "source": [
    "In this notebook, Data Science Tools and Ecosystem are summarized."
   ]
  },
  {
   "cell_type": "markdown",
   "id": "8f0cb71a-1ce1-4230-864c-aa8438a6f463",
   "metadata": {},
   "source": [
    "**Objectives:**\n",
    "\n",
    "- List popular languages for Data Science  \n",
    "- List commonly used libraries for Data Science  \n",
    "- Identify open-source Data Science development tools  \n",
    "- Perform simple arithmetic operations in Python  \n",
    "- Convert units of measurement"
   ]
  },
  {
   "cell_type": "markdown",
   "id": "491c5378-4e6a-4732-b236-869405addfb1",
   "metadata": {},
   "source": [
    "Some of the popular languages that Data Scientists use are:\n",
    "1. Python  \n",
    "2. R  \n",
    "3. SQL  \n",
    "4. Julia  \n",
    "5. Scala  "
   ]
  },
  {
   "cell_type": "markdown",
   "id": "08aec47a-e7a1-4f78-9936-0ad21c83c6a3",
   "metadata": {},
   "source": [
    "Some of the commonly used libraries used by Data Scientists include:\n",
    "\n",
    "1. Pandas  \n",
    "2. NumPy  \n",
    "3. Scikit-learn  \n",
    "4. Matplotlib  \n",
    "5. TensorFlow"
   ]
  },
  {
   "cell_type": "markdown",
   "id": "b09cd94b-2c72-4f61-aee3-6882ab66f9f5",
   "metadata": {},
   "source": [
    "<table align=\"left\">\n",
    "  <thead>\n",
    "    <tr>\n",
    "      <th>Data Science Tools</th>\n",
    "    </tr>\n",
    "  </thead>\n",
    "  <tbody>\n",
    "    <tr><td>Jupyter Notebook</td></tr>\n",
    "    <tr><td>RStudio</td></tr>\n",
    "    <tr><td>Spyder</td></tr>\n",
    "  </tbody>\n",
    "</table>"
   ]
  },
  {
   "cell_type": "markdown",
   "id": "79b17281-0d52-46eb-b37e-4d3cd6f5f9b1",
   "metadata": {},
   "source": [
    "<h3>Below are a few examples of evaluating arithmetic expressions in Python.</h3>"
   ]
  },
  {
   "cell_type": "code",
   "execution_count": 3,
   "id": "8d08200d-3474-4bc1-875d-ef6982b4b39a",
   "metadata": {},
   "outputs": [
    {
     "data": {
      "text/plain": [
       "17"
      ]
     },
     "execution_count": 3,
     "metadata": {},
     "output_type": "execute_result"
    }
   ],
   "source": [
    "#This is a simple arithmetic expression to multiply then add integers\n",
    "(3 * 4) + 5"
   ]
  },
  {
   "cell_type": "code",
   "execution_count": 5,
   "id": "920632e8-923c-407e-9a6a-3258dc434a21",
   "metadata": {},
   "outputs": [
    {
     "data": {
      "text/plain": [
       "3.3333333333333335"
      ]
     },
     "execution_count": 5,
     "metadata": {},
     "output_type": "execute_result"
    }
   ],
   "source": [
    "#This will convert 200 minutes to hours by dividing by 60\n",
    "200 / 60"
   ]
  },
  {
   "cell_type": "markdown",
   "id": "aae66467-99ca-417b-808e-00ed139044cb",
   "metadata": {},
   "source": [
    "<h3>Author</h3>\n",
    "\n",
    "J.O"
   ]
  },
  {
   "cell_type": "code",
   "execution_count": null,
   "id": "916334fd-b373-4f3c-86fa-5f316a9b6305",
   "metadata": {},
   "outputs": [],
   "source": []
  }
 ],
 "metadata": {
  "kernelspec": {
   "display_name": "Python 3 (ipykernel)",
   "language": "python",
   "name": "python3"
  },
  "language_info": {
   "codemirror_mode": {
    "name": "ipython",
    "version": 3
   },
   "file_extension": ".py",
   "mimetype": "text/x-python",
   "name": "python",
   "nbconvert_exporter": "python",
   "pygments_lexer": "ipython3",
   "version": "3.11.7"
  }
 },
 "nbformat": 4,
 "nbformat_minor": 5
}
